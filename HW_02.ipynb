{
  "cells": [
    {
      "cell_type": "markdown",
      "metadata": {
        "id": "view-in-github",
        "colab_type": "text"
      },
      "source": [
        "<a href=\"https://colab.research.google.com/github/mechanic3000/GB_PyTorch_course/blob/Lesson_02/HW_02.ipynb\" target=\"_parent\"><img src=\"https://colab.research.google.com/assets/colab-badge.svg\" alt=\"Open In Colab\"/></a>"
      ]
    },
    {
      "cell_type": "markdown",
      "metadata": {
        "id": "P0wm94tl7htr"
      },
      "source": [
        "# Feed-forward сети\n",
        "\n",
        "Итак, давайте потренируемся тренировать нейронные сети прямого распространения (так как делали на паре)\n",
        "При этом попробуем создать свою функцию активации на одном из слоев"
      ]
    },
    {
      "cell_type": "code",
      "execution_count": 1,
      "metadata": {
        "id": "jJRMihWl7htt"
      },
      "outputs": [],
      "source": [
        "# Сделаем необходимые импорты\n",
        "\n",
        "import torch\n",
        "import numpy as np\n",
        "\n",
        "import torch.nn.functional as F\n",
        "from torch import nn\n",
        "import torchvision\n",
        "\n",
        "from torch import optim\n",
        "import torchvision.transforms as transforms\n",
        "import matplotlib.pyplot as plt ### воспользуемся для отображения изображения\n",
        "\n",
        "from tqdm import tqdm"
      ]
    },
    {
      "cell_type": "code",
      "source": [
        "from google.colab import drive\n",
        "drive.mount('/content/drive')"
      ],
      "metadata": {
        "colab": {
          "base_uri": "https://localhost:8080/"
        },
        "id": "nB6uCBBx-CAS",
        "outputId": "9ac27243-140e-40f0-8ae3-fed316a2978e"
      },
      "execution_count": 2,
      "outputs": [
        {
          "output_type": "stream",
          "name": "stdout",
          "text": [
            "Mounted at /content/drive\n"
          ]
        }
      ]
    },
    {
      "cell_type": "code",
      "execution_count": 3,
      "metadata": {
        "colab": {
          "base_uri": "https://localhost:8080/",
          "height": 141,
          "referenced_widgets": [
            "afe50873baa8432593662f18ae753368",
            "34927bb4ffea468f8151806610d42bb9",
            "2c14af8d8e514fc69e9e87da8bd8ee58",
            "0b7e5fa9277844abbe6b7cdae660209e",
            "5485c58312484c08b63d84b17b0c250b",
            "049e7e0b036c41a4ad7a0aec5ca97d94",
            "cb9da5a0b45547868ea1abafc6487c9f",
            "85f051f1db5b4bcfb85e4202c880a6e7",
            "30256a4b78754575a14d223192b6a4f7",
            "0ebaf9facf8a4793ab8674e60a30db44",
            "06a1d8caaee34fd2ac45bffccd252b6a"
          ]
        },
        "id": "-D3_Lvnk7ht0",
        "outputId": "bcfaedbd-3768-487a-f80b-4296a4dbc2f7"
      },
      "outputs": [
        {
          "output_type": "stream",
          "name": "stdout",
          "text": [
            "Downloading https://www.cs.toronto.edu/~kriz/cifar-100-python.tar.gz to data/cifar-100-python.tar.gz\n"
          ]
        },
        {
          "output_type": "display_data",
          "data": {
            "text/plain": [
              "  0%|          | 0/169001437 [00:00<?, ?it/s]"
            ],
            "application/vnd.jupyter.widget-view+json": {
              "version_major": 2,
              "version_minor": 0,
              "model_id": "afe50873baa8432593662f18ae753368"
            }
          },
          "metadata": {}
        },
        {
          "output_type": "stream",
          "name": "stdout",
          "text": [
            "Extracting data/cifar-100-python.tar.gz to data/\n",
            "Files already downloaded and verified\n",
            "torch.Size([3, 32, 32])\n",
            "81\n"
          ]
        }
      ],
      "source": [
        "# Загрузим датасет CIFAR-100, сразу же создадим dataloader для него\n",
        "# Если вам не хватает вычислительных ресурсов, то можно вернуться к CIFAR-10\n",
        "\n",
        "transform = transforms.Compose(\n",
        "    [transforms.ToTensor(),\n",
        "    #  transforms.Normalize((0.5, 0.5, 0.5), (0.5, 0.5, 0.5))\n",
        "     ])\n",
        "\n",
        "train_dataset = torchvision.datasets.CIFAR100(root='data/',\n",
        "                                             train=True,  \n",
        "                                             transform=transform, \n",
        "                                             download=True)\n",
        "\n",
        "train_loader = torch.utils.data.DataLoader(dataset=train_dataset,\n",
        "                                           batch_size=64, \n",
        "                                           shuffle=True, pin_memory=True)\n",
        "\n",
        "test_dataset = torchvision.datasets.CIFAR100(root='./data', train=False,\n",
        "                                       download=True, transform=transform)\n",
        "\n",
        "test_loader = torch.utils.data.DataLoader(test_dataset, batch_size=8,\n",
        "                                         shuffle=False, pin_memory=True)\n",
        "\n",
        "image, label = train_dataset[36]\n",
        "print (image.size())\n",
        "print (label)"
      ]
    },
    {
      "cell_type": "code",
      "execution_count": 4,
      "metadata": {
        "colab": {
          "base_uri": "https://localhost:8080/",
          "height": 177
        },
        "id": "T6hDhd9u7ht3",
        "outputId": "00a9f372-e328-48fb-af32-857bdc574f3d"
      },
      "outputs": [
        {
          "output_type": "execute_result",
          "data": {
            "text/plain": [
              "<matplotlib.image.AxesImage at 0x7f962fe16280>"
            ]
          },
          "metadata": {},
          "execution_count": 4
        },
        {
          "output_type": "display_data",
          "data": {
            "text/plain": [
              "<Figure size 144x144 with 1 Axes>"
            ],
            "image/png": "[encoded data removed]"
          },
          "metadata": {
            "needs_background": "light"
          }
        }
      ],
      "source": [
        "plt.figure(figsize=(2,2))\n",
        "plt.imshow(image.permute(1, 2, 0).numpy())"
      ]
    },
    {
      "cell_type": "code",
      "execution_count": null,
      "metadata": {
        "id": "ixBGfCmj7ht6"
      },
      "outputs": [],
      "source": [
        "# Создайте собственную архитектуру! Можете использовать все, что угодно, но в ограничении на использование \n",
        "# линейные слои (пока без сверток)\n",
        "\n",
        "# Давайте добавим ограниченный Leaky_relu, то есть output = max(0.1x, 0.5x)\n",
        "# Ваша задача добавить его в архитектуру сети как функцию активации"
      ]
    },
    {
      "cell_type": "code",
      "execution_count": 5,
      "metadata": {
        "id": "2BtFpEVA7ht8"
      },
      "outputs": [],
      "source": [
        "import torch.nn.functional as F\n",
        "\n",
        "class CustomLeakyRelu(nn.Module):\n",
        "    def __init__(self, border:float, alpha:float) -> None:\n",
        "        super().__init__()\n",
        "        self.border = border\n",
        "        self.alpha = alpha\n",
        "        \n",
        "    def forward(self, input):\n",
        "        x = F.leaky_relu(input)\n",
        "        return torch.where(x>self.border, x*self.alpha, x)\n",
        "\n",
        "\n",
        "class Net(nn.Module):\n",
        "    def __init__(self, input_dim, hidden_dim, output_dim):\n",
        "        super().__init__()\n",
        "        self.fc1 = nn.Linear(input_dim, 15 * hidden_dim)\n",
        "        self.fc2 = nn.Linear(15 * hidden_dim, 7 * hidden_dim)\n",
        "        self.fc3 = nn.Linear(7 * hidden_dim, 2 * hidden_dim)\n",
        "        self.fc4 = nn.Linear(2 * hidden_dim, hidden_dim)\n",
        "        self.fc5 = nn.Linear(hidden_dim, output_dim)\n",
        "        self.cust_relu = CustomLeakyRelu(0.1, 0.5)\n",
        "\n",
        "    def forward(self, x):\n",
        "        x = x.view(x.shape[0], -1)\n",
        "        x = self.fc1(x)\n",
        "        x = self.cust_relu(x)\n",
        "        x = self.fc2(x)\n",
        "        x = self.cust_relu(x)\n",
        "        x = self.fc3(x)\n",
        "        x = self.cust_relu(x)\n",
        "        x = self.fc4(x)\n",
        "        x = self.cust_relu(x)\n",
        "        x = self.fc5(x)\n",
        "        # x = F.softmax(x)\n",
        "        return x\n",
        "\n",
        "\n",
        "net = Net(3072, 200, 100)"
      ]
    },
    {
      "cell_type": "code",
      "execution_count": 6,
      "metadata": {
        "id": "nnimxkGL7ht-"
      },
      "outputs": [],
      "source": [
        "# Запустить обучение (по аналогии с тем, что делали на паре)\n",
        "\n",
        "\n",
        "criterion = nn.CrossEntropyLoss()\n",
        "optimizer = optim.Adam(net.parameters(), lr=0.001)"
      ]
    },
    {
      "cell_type": "code",
      "execution_count": 7,
      "metadata": {
        "colab": {
          "base_uri": "https://localhost:8080/"
        },
        "id": "zi64sODg7huA",
        "outputId": "f28501b4-b70b-41db-b5b3-dab0d9e1e868"
      },
      "outputs": [
        {
          "metadata": {
            "tags": null
          },
          "name": "stderr",
          "output_type": "stream",
          "text": [
            "\r  0%|          | 0/30 [00:00<?, ?it/s]"
          ]
        },
        {
          "metadata": {
            "tags": null
          },
          "name": "stdout",
          "output_type": "stream",
          "text": [
            "[1,     1] loss: 0.002\n",
            "[1,   301] loss: 0.662\n",
            "[1,   601] loss: 0.611\n"
          ]
        },
        {
          "metadata": {
            "tags": null
          },
          "name": "stderr",
          "output_type": "stream",
          "text": [
            "\r  3%|▎         | 1/30 [02:37<1:16:10, 157.61s/it]"
          ]
        },
        {
          "metadata": {
            "tags": null
          },
          "name": "stdout",
          "output_type": "stream",
          "text": [
            "[2,     1] loss: 0.002\n",
            "[2,   301] loss: 0.592\n",
            "[2,   601] loss: 0.581\n"
          ]
        },
        {
          "metadata": {
            "tags": null
          },
          "name": "stderr",
          "output_type": "stream",
          "text": [
            "\r  7%|▋         | 2/30 [05:15<1:13:31, 157.55s/it]"
          ]
        },
        {
          "metadata": {
            "tags": null
          },
          "name": "stdout",
          "output_type": "stream",
          "text": [
            "[3,     1] loss: 0.002\n",
            "[3,   301] loss: 0.564\n",
            "[3,   601] loss: 0.554\n"
          ]
        },
        {
          "metadata": {
            "tags": null
          },
          "name": "stderr",
          "output_type": "stream",
          "text": [
            "\r 10%|█         | 3/30 [08:01<1:12:41, 161.53s/it]"
          ]
        },
        {
          "metadata": {
            "tags": null
          },
          "name": "stdout",
          "output_type": "stream",
          "text": [
            "[4,     1] loss: 0.002\n",
            "[4,   301] loss: 0.537\n",
            "[4,   601] loss: 0.534\n"
          ]
        },
        {
          "metadata": {
            "tags": null
          },
          "name": "stderr",
          "output_type": "stream",
          "text": [
            "\r 13%|█▎        | 4/30 [10:40<1:09:33, 160.51s/it]"
          ]
        },
        {
          "metadata": {
            "tags": null
          },
          "name": "stdout",
          "output_type": "stream",
          "text": [
            "[5,     1] loss: 0.002\n",
            "[5,   301] loss: 0.521\n",
            "[5,   601] loss: 0.515\n"
          ]
        },
        {
          "metadata": {
            "tags": null
          },
          "name": "stderr",
          "output_type": "stream",
          "text": [
            "\r 17%|█▋        | 5/30 [13:20<1:06:50, 160.42s/it]"
          ]
        },
        {
          "metadata": {
            "tags": null
          },
          "name": "stdout",
          "output_type": "stream",
          "text": [
            "[6,     1] loss: 0.002\n",
            "[6,   301] loss: 0.505\n",
            "[6,   601] loss: 0.506\n"
          ]
        },
        {
          "metadata": {
            "tags": null
          },
          "name": "stderr",
          "output_type": "stream",
          "text": [
            "\r 20%|██        | 6/30 [15:50<1:02:43, 156.81s/it]"
          ]
        },
        {
          "metadata": {
            "tags": null
          },
          "name": "stdout",
          "output_type": "stream",
          "text": [
            "[7,     1] loss: 0.002\n",
            "[7,   301] loss: 0.491\n",
            "[7,   601] loss: 0.494\n"
          ]
        },
        {
          "metadata": {
            "tags": null
          },
          "name": "stderr",
          "output_type": "stream",
          "text": [
            "\r 23%|██▎       | 7/30 [18:24<59:45, 155.88s/it]  "
          ]
        },
        {
          "metadata": {
            "tags": null
          },
          "name": "stdout",
          "output_type": "stream",
          "text": [
            "[8,     1] loss: 0.002\n",
            "[8,   301] loss: 0.479\n",
            "[8,   601] loss: 0.484\n"
          ]
        },
        {
          "metadata": {
            "tags": null
          },
          "name": "stderr",
          "output_type": "stream",
          "text": [
            "\r 27%|██▋       | 8/30 [20:55<56:35, 154.35s/it]"
          ]
        },
        {
          "metadata": {
            "tags": null
          },
          "name": "stdout",
          "output_type": "stream",
          "text": [
            "[9,     1] loss: 0.001\n",
            "[9,   301] loss: 0.468\n",
            "[9,   601] loss: 0.473\n"
          ]
        },
        {
          "metadata": {
            "tags": null
          },
          "name": "stderr",
          "output_type": "stream",
          "text": [
            "\r 30%|███       | 9/30 [23:27<53:47, 153.70s/it]"
          ]
        },
        {
          "metadata": {
            "tags": null
          },
          "name": "stdout",
          "output_type": "stream",
          "text": [
            "[10,     1] loss: 0.002\n",
            "[10,   301] loss: 0.459\n",
            "[10,   601] loss: 0.459\n"
          ]
        },
        {
          "metadata": {
            "tags": null
          },
          "name": "stderr",
          "output_type": "stream",
          "text": [
            "\r 33%|███▎      | 10/30 [26:03<51:29, 154.45s/it]"
          ]
        },
        {
          "metadata": {
            "tags": null
          },
          "name": "stdout",
          "output_type": "stream",
          "text": [
            "[11,     1] loss: 0.002\n",
            "[11,   301] loss: 0.449\n",
            "[11,   601] loss: 0.451\n"
          ]
        },
        {
          "metadata": {
            "tags": null
          },
          "name": "stderr",
          "output_type": "stream",
          "text": [
            "\r 37%|███▋      | 11/30 [28:39<49:03, 154.91s/it]"
          ]
        },
        {
          "metadata": {
            "tags": null
          },
          "name": "stdout",
          "output_type": "stream",
          "text": [
            "[12,     1] loss: 0.001\n",
            "[12,   301] loss: 0.440\n",
            "[12,   601] loss: 0.444\n"
          ]
        },
        {
          "metadata": {
            "tags": null
          },
          "name": "stderr",
          "output_type": "stream",
          "text": [
            "\r 40%|████      | 12/30 [31:14<46:26, 154.82s/it]"
          ]
        },
        {
          "metadata": {
            "tags": null
          },
          "name": "stdout",
          "output_type": "stream",
          "text": [
            "[13,     1] loss: 0.001\n",
            "[13,   301] loss: 0.430\n",
            "[13,   601] loss: 0.434\n"
          ]
        },
        {
          "metadata": {
            "tags": null
          },
          "name": "stderr",
          "output_type": "stream",
          "text": [
            "\r 43%|████▎     | 13/30 [33:49<43:53, 154.89s/it]"
          ]
        },
        {
          "metadata": {
            "tags": null
          },
          "name": "stdout",
          "output_type": "stream",
          "text": [
            "[14,     1] loss: 0.001\n",
            "[14,   301] loss: 0.418\n",
            "[14,   601] loss: 0.427\n"
          ]
        },
        {
          "metadata": {
            "tags": null
          },
          "name": "stderr",
          "output_type": "stream",
          "text": [
            "\r 47%|████▋     | 14/30 [36:25<41:22, 155.14s/it]"
          ]
        },
        {
          "metadata": {
            "tags": null
          },
          "name": "stdout",
          "output_type": "stream",
          "text": [
            "[15,     1] loss: 0.001\n",
            "[15,   301] loss: 0.407\n",
            "[15,   601] loss: 0.419\n"
          ]
        },
        {
          "metadata": {
            "tags": null
          },
          "name": "stderr",
          "output_type": "stream",
          "text": [
            "\r 50%|█████     | 15/30 [39:01<38:51, 155.44s/it]"
          ]
        },
        {
          "metadata": {
            "tags": null
          },
          "name": "stdout",
          "output_type": "stream",
          "text": [
            "[16,     1] loss: 0.001\n",
            "[16,   301] loss: 0.400\n",
            "[16,   601] loss: 0.404\n"
          ]
        },
        {
          "metadata": {
            "tags": null
          },
          "name": "stderr",
          "output_type": "stream",
          "text": [
            "\r 53%|█████▎    | 16/30 [41:34<36:07, 154.84s/it]"
          ]
        },
        {
          "metadata": {
            "tags": null
          },
          "name": "stdout",
          "output_type": "stream",
          "text": [
            "[17,     1] loss: 0.001\n",
            "[17,   301] loss: 0.389\n",
            "[17,   601] loss: 0.394\n"
          ]
        },
        {
          "metadata": {
            "tags": null
          },
          "name": "stderr",
          "output_type": "stream",
          "text": [
            "\r 57%|█████▋    | 17/30 [44:11<33:40, 155.44s/it]"
          ]
        },
        {
          "metadata": {
            "tags": null
          },
          "name": "stdout",
          "output_type": "stream",
          "text": [
            "[18,     1] loss: 0.001\n",
            "[18,   301] loss: 0.375\n",
            "[18,   601] loss: 0.385\n"
          ]
        },
        {
          "metadata": {
            "tags": null
          },
          "name": "stderr",
          "output_type": "stream",
          "text": [
            "\r 60%|██████    | 18/30 [46:48<31:09, 155.82s/it]"
          ]
        },
        {
          "metadata": {
            "tags": null
          },
          "name": "stdout",
          "output_type": "stream",
          "text": [
            "[19,     1] loss: 0.001\n",
            "[19,   301] loss: 0.369\n",
            "[19,   601] loss: 0.375\n"
          ]
        },
        {
          "metadata": {
            "tags": null
          },
          "name": "stderr",
          "output_type": "stream",
          "text": [
            "\r 63%|██████▎   | 19/30 [49:24<28:34, 155.83s/it]"
          ]
        },
        {
          "metadata": {
            "tags": null
          },
          "name": "stdout",
          "output_type": "stream",
          "text": [
            "[20,     1] loss: 0.001\n",
            "[20,   301] loss: 0.354\n",
            "[20,   601] loss: 0.367\n"
          ]
        },
        {
          "metadata": {
            "tags": null
          },
          "name": "stderr",
          "output_type": "stream",
          "text": [
            "\r 67%|██████▋   | 20/30 [52:03<26:09, 156.95s/it]"
          ]
        },
        {
          "metadata": {
            "tags": null
          },
          "name": "stdout",
          "output_type": "stream",
          "text": [
            "[21,     1] loss: 0.001\n",
            "[21,   301] loss: 0.343\n",
            "[21,   601] loss: 0.354\n"
          ]
        },
        {
          "metadata": {
            "tags": null
          },
          "name": "stderr",
          "output_type": "stream",
          "text": [
            "\r 70%|███████   | 21/30 [54:45<23:46, 158.52s/it]"
          ]
        },
        {
          "metadata": {
            "tags": null
          },
          "name": "stdout",
          "output_type": "stream",
          "text": [
            "[22,     1] loss: 0.001\n",
            "[22,   301] loss: 0.332\n",
            "[22,   601] loss: 0.343\n"
          ]
        },
        {
          "metadata": {
            "tags": null
          },
          "name": "stderr",
          "output_type": "stream",
          "text": [
            "\r 73%|███████▎  | 22/30 [57:22<21:04, 158.06s/it]"
          ]
        },
        {
          "metadata": {
            "tags": null
          },
          "name": "stdout",
          "output_type": "stream",
          "text": [
            "[23,     1] loss: 0.001\n",
            "[23,   301] loss: 0.321\n",
            "[23,   601] loss: 0.334\n"
          ]
        },
        {
          "metadata": {
            "tags": null
          },
          "name": "stderr",
          "output_type": "stream",
          "text": [
            "\r 77%|███████▋  | 23/30 [59:58<18:21, 157.30s/it]"
          ]
        },
        {
          "metadata": {
            "tags": null
          },
          "name": "stdout",
          "output_type": "stream",
          "text": [
            "[24,     1] loss: 0.001\n",
            "[24,   301] loss: 0.307\n",
            "[24,   601] loss: 0.324\n"
          ]
        },
        {
          "metadata": {
            "tags": null
          },
          "name": "stderr",
          "output_type": "stream",
          "text": [
            "\r 80%|████████  | 24/30 [1:02:36<15:46, 157.67s/it]"
          ]
        },
        {
          "metadata": {
            "tags": null
          },
          "name": "stdout",
          "output_type": "stream",
          "text": [
            "[25,     1] loss: 0.001\n",
            "[25,   301] loss: 0.298\n",
            "[25,   601] loss: 0.310\n"
          ]
        },
        {
          "output_type": "stream",
          "name": "stderr",
          "text": [
            "\r 83%|████████▎ | 25/30 [1:05:12<13:05, 157.01s/it]"
          ]
        },
        {
          "output_type": "stream",
          "name": "stdout",
          "text": [
            "[26,     1] loss: 0.001\n",
            "[26,   301] loss: 0.287\n",
            "[26,   601] loss: 0.299\n"
          ]
        },
        {
          "output_type": "stream",
          "name": "stderr",
          "text": [
            "\r 87%|████████▋ | 26/30 [1:07:46<10:25, 156.27s/it]"
          ]
        },
        {
          "output_type": "stream",
          "name": "stdout",
          "text": [
            "[27,     1] loss: 0.001\n",
            "[27,   301] loss: 0.278\n",
            "[27,   601] loss: 0.289\n"
          ]
        },
        {
          "output_type": "stream",
          "name": "stderr",
          "text": [
            "\r 90%|█████████ | 27/30 [1:10:20<07:46, 155.59s/it]"
          ]
        },
        {
          "output_type": "stream",
          "name": "stdout",
          "text": [
            "[28,     1] loss: 0.001\n",
            "[28,   301] loss: 0.262\n",
            "[28,   601] loss: 0.279\n"
          ]
        },
        {
          "output_type": "stream",
          "name": "stderr",
          "text": [
            "\r 93%|█████████▎| 28/30 [1:12:57<05:11, 155.81s/it]"
          ]
        },
        {
          "output_type": "stream",
          "name": "stdout",
          "text": [
            "[29,     1] loss: 0.001\n",
            "[29,   301] loss: 0.252\n",
            "[29,   601] loss: 0.267\n"
          ]
        },
        {
          "output_type": "stream",
          "name": "stderr",
          "text": [
            "\r 97%|█████████▋| 29/30 [1:15:34<02:36, 156.34s/it]"
          ]
        },
        {
          "output_type": "stream",
          "name": "stdout",
          "text": [
            "[30,     1] loss: 0.001\n",
            "[30,   301] loss: 0.245\n",
            "[30,   601] loss: 0.261\n"
          ]
        },
        {
          "output_type": "stream",
          "name": "stderr",
          "text": [
            "100%|██████████| 30/30 [1:18:10<00:00, 156.35s/it]"
          ]
        },
        {
          "output_type": "stream",
          "name": "stdout",
          "text": [
            "Training is finished!\n"
          ]
        },
        {
          "output_type": "stream",
          "name": "stderr",
          "text": [
            "\n"
          ]
        }
      ],
      "source": [
        "for epoch in tqdm(range(30)):  \n",
        "    running_loss = 0.0\n",
        "    for i, data in enumerate(train_loader, 0):\n",
        "        inputs, labels = data[0], data[1]\n",
        "\n",
        "        # обнуляем градиент\n",
        "        optimizer.zero_grad()\n",
        "\n",
        "        outputs = net(inputs)\n",
        "        loss = criterion(outputs, labels)\n",
        "        loss.backward()\n",
        "        optimizer.step()\n",
        "\n",
        "        # выводим статистику о процессе обучения\n",
        "        running_loss += loss.item()\n",
        "        if i % 300 == 0:    # печатаем каждые 300 mini-batches\n",
        "            print('[%d, %5d] loss: %.3f' %\n",
        "                  (epoch + 1, i + 1, running_loss / 2000))\n",
        "            running_loss = 0.0\n",
        "\n",
        "print('Training is finished!')"
      ]
    },
    {
      "cell_type": "code",
      "source": [
        "PATH_MODEL = '/content/drive/MyDrive/Colab Notebooks/GB_pytorch/Lesson_02/model.pth'"
      ],
      "metadata": {
        "id": "MtiKAOGuMTy7"
      },
      "execution_count": 8,
      "outputs": []
    },
    {
      "cell_type": "code",
      "execution_count": 9,
      "metadata": {
        "id": "viMkUlGp7huC"
      },
      "outputs": [],
      "source": [
        "torch.save(net, PATH_MODEL)"
      ]
    },
    {
      "cell_type": "code",
      "execution_count": 14,
      "metadata": {
        "id": "Xbl5WtCP7huF"
      },
      "outputs": [],
      "source": [
        "net = torch.load(PATH_MODEL)"
      ]
    },
    {
      "cell_type": "code",
      "execution_count": 10,
      "metadata": {
        "id": "pWx24ZDB7huG"
      },
      "outputs": [],
      "source": [
        "data_iter = iter(test_loader)"
      ]
    },
    {
      "cell_type": "code",
      "source": [
        "images, labels = next(data_iter)"
      ],
      "metadata": {
        "id": "fk1yYg0804UO"
      },
      "execution_count": 21,
      "outputs": []
    },
    {
      "cell_type": "code",
      "execution_count": 22,
      "metadata": {
        "colab": {
          "base_uri": "https://localhost:8080/",
          "height": 121
        },
        "id": "xVzhE4yt7huI",
        "outputId": "aba84b73-bbef-4cb1-cba1-b9674691a9a7"
      },
      "outputs": [
        {
          "output_type": "execute_result",
          "data": {
            "text/plain": [
              "<matplotlib.image.AxesImage at 0x7f962f2f6e20>"
            ]
          },
          "metadata": {},
          "execution_count": 22
        },
        {
          "output_type": "display_data",
          "data": {
            "text/plain": [
              "<Figure size 504x144 with 1 Axes>"
            ],
            "image/png": "[encoded data removed]"
          },
          "metadata": {
            "needs_background": "light"
          }
        }
      ],
      "source": [
        "net.eval()\n",
        "outputs = net(images)\n",
        "imgs = torchvision.utils.make_grid(images)\n",
        "plt.figure(figsize=(7,2))\n",
        "plt.imshow(imgs.permute(1,2,0).numpy())"
      ]
    },
    {
      "cell_type": "code",
      "execution_count": 23,
      "metadata": {
        "id": "3o88H24T7huJ"
      },
      "outputs": [],
      "source": [
        "_, predicted = torch.max(outputs, 1)"
      ]
    },
    {
      "cell_type": "code",
      "execution_count": 24,
      "metadata": {
        "colab": {
          "base_uri": "https://localhost:8080/"
        },
        "id": "3V6amO-m7huL",
        "outputId": "325f8ae9-d178-4f1b-8afd-1408ca3f6752"
      },
      "outputs": [
        {
          "output_type": "stream",
          "name": "stdout",
          "text": [
            "[41 93 56 73 58 11 25 37]\n",
            "[41 73 47 33 32 45 94 90]\n",
            "Accuracy is 0.125\n"
          ]
        }
      ],
      "source": [
        "gt = np.array([labels[j] for j in range(len(labels))])\n",
        "pred = np.array([predicted[j] for j in range(len(labels))])\n",
        "\n",
        "print(gt)\n",
        "print(pred)\n",
        "print(f'Accuracy is {(gt == pred).sum()/len(gt)}')"
      ]
    }
  ],
  "metadata": {
    "kernelspec": {
      "display_name": "Python 3",
      "name": "python3"
    },
    "language_info": {
      "name": "python"
    },
    "colab": {
      "provenance": [],
      "include_colab_link": true
    },
    "gpuClass": "standard",
    "widgets": {
      "application/vnd.jupyter.widget-state+json": {
        "afe50873baa8432593662f18ae753368": {
          "model_module": "@jupyter-widgets/controls",
          "model_name": "HBoxModel",
          "model_module_version": "1.5.0",
          "state": {
            "_dom_classes": [],
            "_model_module": "@jupyter-widgets/controls",
            "_model_module_version": "1.5.0",
            "_model_name": "HBoxModel",
            "_view_count": null,
            "_view_module": "@jupyter-widgets/controls",
            "_view_module_version": "1.5.0",
            "_view_name": "HBoxView",
            "box_style": "",
            "children": [
              "IPY_MODEL_34927bb4ffea468f8151806610d42bb9",
              "IPY_MODEL_2c14af8d8e514fc69e9e87da8bd8ee58",
              "IPY_MODEL_0b7e5fa9277844abbe6b7cdae660209e"
            ],
            "layout": "IPY_MODEL_5485c58312484c08b63d84b17b0c250b"
          }
        },
        "34927bb4ffea468f8151806610d42bb9": {
          "model_module": "@jupyter-widgets/controls",
          "model_name": "HTMLModel",
          "model_module_version": "1.5.0",
          "state": {
            "_dom_classes": [],
            "_model_module": "@jupyter-widgets/controls",
            "_model_module_version": "1.5.0",
            "_model_name": "HTMLModel",
            "_view_count": null,
            "_view_module": "@jupyter-widgets/controls",
            "_view_module_version": "1.5.0",
            "_view_name": "HTMLView",
            "description": "",
            "description_tooltip": null,
            "layout": "IPY_MODEL_049e7e0b036c41a4ad7a0aec5ca97d94",
            "placeholder": "​",
            "style": "IPY_MODEL_cb9da5a0b45547868ea1abafc6487c9f",
            "value": "100%"
          }
        },
        "2c14af8d8e514fc69e9e87da8bd8ee58": {
          "model_module": "@jupyter-widgets/controls",
          "model_name": "FloatProgressModel",
          "model_module_version": "1.5.0",
          "state": {
            "_dom_classes": [],
            "_model_module": "@jupyter-widgets/controls",
            "_model_module_version": "1.5.0",
            "_model_name": "FloatProgressModel",
            "_view_count": null,
            "_view_module": "@jupyter-widgets/controls",
            "_view_module_version": "1.5.0",
            "_view_name": "ProgressView",
            "bar_style": "success",
            "description": "",
            "description_tooltip": null,
            "layout": "IPY_MODEL_85f051f1db5b4bcfb85e4202c880a6e7",
            "max": 169001437,
            "min": 0,
            "orientation": "horizontal",
            "style": "IPY_MODEL_30256a4b78754575a14d223192b6a4f7",
            "value": 169001437
          }
        },
        "0b7e5fa9277844abbe6b7cdae660209e": {
          "model_module": "@jupyter-widgets/controls",
          "model_name": "HTMLModel",
          "model_module_version": "1.5.0",
          "state": {
            "_dom_classes": [],
            "_model_module": "@jupyter-widgets/controls",
            "_model_module_version": "1.5.0",
            "_model_name": "HTMLModel",
            "_view_count": null,
            "_view_module": "@jupyter-widgets/controls",
            "_view_module_version": "1.5.0",
            "_view_name": "HTMLView",
            "description": "",
            "description_tooltip": null,
            "layout": "IPY_MODEL_0ebaf9facf8a4793ab8674e60a30db44",
            "placeholder": "​",
            "style": "IPY_MODEL_06a1d8caaee34fd2ac45bffccd252b6a",
            "value": " 169001437/169001437 [00:01&lt;00:00, 105126869.59it/s]"
          }
        },
        "5485c58312484c08b63d84b17b0c250b": {
          "model_module": "@jupyter-widgets/base",
          "model_name": "LayoutModel",
          "model_module_version": "1.2.0",
          "state": {
            "_model_module": "@jupyter-widgets/base",
            "_model_module_version": "1.2.0",
            "_model_name": "LayoutModel",
            "_view_count": null,
            "_view_module": "@jupyter-widgets/base",
            "_view_module_version": "1.2.0",
            "_view_name": "LayoutView",
            "align_content": null,
            "align_items": null,
            "align_self": null,
            "border": null,
            "bottom": null,
            "display": null,
            "flex": null,
            "flex_flow": null,
            "grid_area": null,
            "grid_auto_columns": null,
            "grid_auto_flow": null,
            "grid_auto_rows": null,
            "grid_column": null,
            "grid_gap": null,
            "grid_row": null,
            "grid_template_areas": null,
            "grid_template_columns": null,
            "grid_template_rows": null,
            "height": null,
            "justify_content": null,
            "justify_items": null,
            "left": null,
            "margin": null,
            "max_height": null,
            "max_width": null,
            "min_height": null,
            "min_width": null,
            "object_fit": null,
            "object_position": null,
            "order": null,
            "overflow": null,
            "overflow_x": null,
            "overflow_y": null,
            "padding": null,
            "right": null,
            "top": null,
            "visibility": null,
            "width": null
          }
        },
        "049e7e0b036c41a4ad7a0aec5ca97d94": {
          "model_module": "@jupyter-widgets/base",
          "model_name": "LayoutModel",
          "model_module_version": "1.2.0",
          "state": {
            "_model_module": "@jupyter-widgets/base",
            "_model_module_version": "1.2.0",
            "_model_name": "LayoutModel",
            "_view_count": null,
            "_view_module": "@jupyter-widgets/base",
            "_view_module_version": "1.2.0",
            "_view_name": "LayoutView",
            "align_content": null,
            "align_items": null,
            "align_self": null,
            "border": null,
            "bottom": null,
            "display": null,
            "flex": null,
            "flex_flow": null,
            "grid_area": null,
            "grid_auto_columns": null,
            "grid_auto_flow": null,
            "grid_auto_rows": null,
            "grid_column": null,
            "grid_gap": null,
            "grid_row": null,
            "grid_template_areas": null,
            "grid_template_columns": null,
            "grid_template_rows": null,
            "height": null,
            "justify_content": null,
            "justify_items": null,
            "left": null,
            "margin": null,
            "max_height": null,
            "max_width": null,
            "min_height": null,
            "min_width": null,
            "object_fit": null,
            "object_position": null,
            "order": null,
            "overflow": null,
            "overflow_x": null,
            "overflow_y": null,
            "padding": null,
            "right": null,
            "top": null,
            "visibility": null,
            "width": null
          }
        },
        "cb9da5a0b45547868ea1abafc6487c9f": {
          "model_module": "@jupyter-widgets/controls",
          "model_name": "DescriptionStyleModel",
          "model_module_version": "1.5.0",
          "state": {
            "_model_module": "@jupyter-widgets/controls",
            "_model_module_version": "1.5.0",
            "_model_name": "DescriptionStyleModel",
            "_view_count": null,
            "_view_module": "@jupyter-widgets/base",
            "_view_module_version": "1.2.0",
            "_view_name": "StyleView",
            "description_width": ""
          }
        },
        "85f051f1db5b4bcfb85e4202c880a6e7": {
          "model_module": "@jupyter-widgets/base",
          "model_name": "LayoutModel",
          "model_module_version": "1.2.0",
          "state": {
            "_model_module": "@jupyter-widgets/base",
            "_model_module_version": "1.2.0",
            "_model_name": "LayoutModel",
            "_view_count": null,
            "_view_module": "@jupyter-widgets/base",
            "_view_module_version": "1.2.0",
            "_view_name": "LayoutView",
            "align_content": null,
            "align_items": null,
            "align_self": null,
            "border": null,
            "bottom": null,
            "display": null,
            "flex": null,
            "flex_flow": null,
            "grid_area": null,
            "grid_auto_columns": null,
            "grid_auto_flow": null,
            "grid_auto_rows": null,
            "grid_column": null,
            "grid_gap": null,
            "grid_row": null,
            "grid_template_areas": null,
            "grid_template_columns": null,
            "grid_template_rows": null,
            "height": null,
            "justify_content": null,
            "justify_items": null,
            "left": null,
            "margin": null,
            "max_height": null,
            "max_width": null,
            "min_height": null,
            "min_width": null,
            "object_fit": null,
            "object_position": null,
            "order": null,
            "overflow": null,
            "overflow_x": null,
            "overflow_y": null,
            "padding": null,
            "right": null,
            "top": null,
            "visibility": null,
            "width": null
          }
        },
        "30256a4b78754575a14d223192b6a4f7": {
          "model_module": "@jupyter-widgets/controls",
          "model_name": "ProgressStyleModel",
          "model_module_version": "1.5.0",
          "state": {
            "_model_module": "@jupyter-widgets/controls",
            "_model_module_version": "1.5.0",
            "_model_name": "ProgressStyleModel",
            "_view_count": null,
            "_view_module": "@jupyter-widgets/base",
            "_view_module_version": "1.2.0",
            "_view_name": "StyleView",
            "bar_color": null,
            "description_width": ""
          }
        },
        "0ebaf9facf8a4793ab8674e60a30db44": {
          "model_module": "@jupyter-widgets/base",
          "model_name": "LayoutModel",
          "model_module_version": "1.2.0",
          "state": {
            "_model_module": "@jupyter-widgets/base",
            "_model_module_version": "1.2.0",
            "_model_name": "LayoutModel",
            "_view_count": null,
            "_view_module": "@jupyter-widgets/base",
            "_view_module_version": "1.2.0",
            "_view_name": "LayoutView",
            "align_content": null,
            "align_items": null,
            "align_self": null,
            "border": null,
            "bottom": null,
            "display": null,
            "flex": null,
            "flex_flow": null,
            "grid_area": null,
            "grid_auto_columns": null,
            "grid_auto_flow": null,
            "grid_auto_rows": null,
            "grid_column": null,
            "grid_gap": null,
            "grid_row": null,
            "grid_template_areas": null,
            "grid_template_columns": null,
            "grid_template_rows": null,
            "height": null,
            "justify_content": null,
            "justify_items": null,
            "left": null,
            "margin": null,
            "max_height": null,
            "max_width": null,
            "min_height": null,
            "min_width": null,
            "object_fit": null,
            "object_position": null,
            "order": null,
            "overflow": null,
            "overflow_x": null,
            "overflow_y": null,
            "padding": null,
            "right": null,
            "top": null,
            "visibility": null,
            "width": null
          }
        },
        "06a1d8caaee34fd2ac45bffccd252b6a": {
          "model_module": "@jupyter-widgets/controls",
          "model_name": "DescriptionStyleModel",
          "model_module_version": "1.5.0",
          "state": {
            "_model_module": "@jupyter-widgets/controls",
            "_model_module_version": "1.5.0",
            "_model_name": "DescriptionStyleModel",
            "_view_count": null,
            "_view_module": "@jupyter-widgets/base",
            "_view_module_version": "1.2.0",
            "_view_name": "StyleView",
            "description_width": ""
          }
        }
      }
    }
  },
  "nbformat": 4,
  "nbformat_minor": 0
}