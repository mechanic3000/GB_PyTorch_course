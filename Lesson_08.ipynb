{
  "nbformat": 4,
  "nbformat_minor": 0,
  "metadata": {
    "colab": {
      "provenance": [],
      "authorship_tag": "ABX9TyNNq3FFCzsihaerU1awr7AY",
      "include_colab_link": true
    },
    "kernelspec": {
      "name": "python3",
      "display_name": "Python 3"
    },
    "language_info": {
      "name": "python"
    },
    "accelerator": "GPU",
    "gpuClass": "standard"
  },
  "cells": [
    {
      "cell_type": "markdown",
      "metadata": {
        "id": "view-in-github",
        "colab_type": "text"
      },
      "source": [
        "<a href=\"https://colab.research.google.com/github/mechanic3000/GB_PyTorch_course/blob/Lesson_08/Lesson_08.ipynb\" target=\"_parent\"><img src=\"https://colab.research.google.com/assets/colab-badge.svg\" alt=\"Open In Colab\"/></a>"
      ]
    },
    {
      "cell_type": "code",
      "execution_count": 39,
      "metadata": {
        "id": "iCAjlAOx2sCv"
      },
      "outputs": [],
      "source": [
        "import os\n",
        "import numpy as np\n",
        "import math\n",
        "\n",
        "from torch.utils.data import DataLoader\n",
        "import torchvision.transforms as transforms\n",
        "from torchvision import datasets\n",
        "from torch.autograd import Variable\n",
        "\n",
        "import torch.nn as nn\n",
        "import torch\n",
        "from torch.nn import functional as F\n",
        "from tqdm import trange\n",
        "\n",
        "########### Вывод изображений и их сохранение\n",
        "import matplotlib.pyplot as plt\n",
        "from IPython import display\n",
        "from torchvision.utils import save_image, make_grid"
      ]
    },
    {
      "cell_type": "code",
      "source": [
        "use_cuda = torch.cuda.is_available()\n",
        "# device = torch.device(\"cpu\")\n",
        "device = torch.device('cuda') if torch.cuda.is_available() else torch.device('cpu')\n",
        "print(device)"
      ],
      "metadata": {
        "colab": {
          "base_uri": "https://localhost:8080/"
        },
        "id": "8MR8Uykk5DlF",
        "outputId": "0032dff4-a969-4757-f7d1-a100be53ef05"
      },
      "execution_count": 2,
      "outputs": [
        {
          "output_type": "stream",
          "name": "stdout",
          "text": [
            "cuda\n"
          ]
        }
      ]
    },
    {
      "cell_type": "code",
      "source": [
        "x = torch.linspace(-30, 30, steps=100000)\n",
        "x[x == 0] = 0.0001\n",
        "train = torch.sin(x) / x - x / 10"
      ],
      "metadata": {
        "id": "vdWezE155NHL"
      },
      "execution_count": 86,
      "outputs": []
    },
    {
      "cell_type": "code",
      "source": [
        "plt.scatter(x, train)"
      ],
      "metadata": {
        "colab": {
          "base_uri": "https://localhost:8080/",
          "height": 283
        },
        "id": "a1wwtpgz8LZr",
        "outputId": "2695c8bb-e18d-4d87-d325-f7075c25bd04"
      },
      "execution_count": 87,
      "outputs": [
        {
          "output_type": "execute_result",
          "data": {
            "text/plain": [
              "<matplotlib.collections.PathCollection at 0x7f024c7471c0>"
            ]
          },
          "metadata": {},
          "execution_count": 87
        },
        {
          "output_type": "display_data",
          "data": {
            "text/plain": [
              "<Figure size 432x288 with 1 Axes>"
            ],
            "image/png": "[encoded data removed]"
          },
          "metadata": {
            "needs_background": "light"
          }
        }
      ]
    },
    {
      "cell_type": "code",
      "source": [
        "r1 = -10\n",
        "r2 = 10\n",
        "\n",
        "x1 = (r1 - r2) * torch.rand(3000) + r2\n",
        "x1[x1 == 0] = 0.0001\n",
        "\n",
        "valid = torch.sin(x1) / x1 - x1 / 10"
      ],
      "metadata": {
        "id": "tA4GfPJf8xgh"
      },
      "execution_count": 88,
      "outputs": []
    },
    {
      "cell_type": "code",
      "source": [
        "plt.scatter(x1, valid)"
      ],
      "metadata": {
        "colab": {
          "base_uri": "https://localhost:8080/",
          "height": 283
        },
        "id": "CljWbX8O82v6",
        "outputId": "50d0c6a5-1bce-44fc-f8d3-6e89da40636c"
      },
      "execution_count": 89,
      "outputs": [
        {
          "output_type": "execute_result",
          "data": {
            "text/plain": [
              "<matplotlib.collections.PathCollection at 0x7f024e746880>"
            ]
          },
          "metadata": {},
          "execution_count": 89
        },
        {
          "output_type": "display_data",
          "data": {
            "text/plain": [
              "<Figure size 432x288 with 1 Axes>"
            ],
            "image/png": "[encoded data removed]"
          },
          "metadata": {
            "needs_background": "light"
          }
        }
      ]
    },
    {
      "cell_type": "code",
      "source": [
        "x = (x - x.mean()) / x.std()\n",
        "\n",
        "train_ds = torch.utils.data.TensorDataset(x.view(-1, 1), train.view(-1, 1))\n",
        "valid_ds = torch.utils.data.TensorDataset(x1.view(-1, 1), valid.view(-1, 1))\n",
        "\n",
        "train_dl = DataLoader(train_ds, batch_size=256, shuffle=True)\n",
        "valid_dl = DataLoader(valid_ds, batch_size=32, shuffle=False)"
      ],
      "metadata": {
        "id": "_k5TJEyc-AqB"
      },
      "execution_count": 90,
      "outputs": []
    },
    {
      "cell_type": "code",
      "source": [
        "class Generator(nn.Module):\n",
        "    def __init__(self):\n",
        "        super().__init__()\n",
        "        self.approx = nn.Sequential(\n",
        "            nn.Linear(1, 32),\n",
        "            nn.LeakyReLU(0.02),\n",
        "            nn.Linear(32, 128),\n",
        "            nn.LeakyReLU(0.02),\n",
        "            nn.Linear(128, 32),\n",
        "            nn.LeakyReLU(0.02),\n",
        "            nn.Linear(32, 1, bias=False)\n",
        "        )\n",
        "        for p in self.parameters():\n",
        "            if p.dim() > 1:\n",
        "                nn.init.kaiming_uniform_(p)\n",
        "\n",
        "    def forward(self, x):\n",
        "        x = self.approx(x)\n",
        "\n",
        "        return x\n",
        "\n",
        "\n",
        "class Discriminator(nn.Module):\n",
        "    def __init__(self):\n",
        "        super().__init__()\n",
        "        self.fc1 = nn.Linear(1, 16)\n",
        "        self.fc = nn.Linear(16, 1)\n",
        "\n",
        "        # for p in self.parameters():\n",
        "        #     if p.dim() > 1:\n",
        "        #         nn.init.normal_(p, 0, 0.02)\n",
        "\n",
        "    def forward(self, x):\n",
        "        x = self.fc1(x)\n",
        "        x = F.relu(x)\n",
        "        x = self.fc(x)\n",
        "\n",
        "        return x"
      ],
      "metadata": {
        "id": "EGhBKKll-TVf"
      },
      "execution_count": 91,
      "outputs": []
    },
    {
      "cell_type": "code",
      "source": [
        "generator = Generator().to(device)\n",
        "discriminator = Discriminator().to(device)"
      ],
      "metadata": {
        "id": "SXOTQilE-W_M"
      },
      "execution_count": 92,
      "outputs": []
    },
    {
      "cell_type": "code",
      "source": [
        "optimizer_disc = torch.optim.Adam(discriminator.parameters(), lr=0.0002)\n",
        "optimizer_gen = torch.optim.Adam(generator.parameters(), lr=0.0002)"
      ],
      "metadata": {
        "id": "JNVCkeMa-2kq"
      },
      "execution_count": 93,
      "outputs": []
    },
    {
      "cell_type": "code",
      "source": [
        "train_d_losses, train_g_losses = [], []\n",
        "\n",
        "for i in trange(300):\n",
        "    \n",
        "    train_de_losses, train_ge_losses = [], []\n",
        "    for i, batch in enumerate(train_dl):\n",
        "        x, y = batch\n",
        "        x, y = x.to(device), y.to(device)\n",
        "\n",
        "        noise = torch.randn(x.size(0), 1).to(device)\n",
        "        gen = generator(noise)\n",
        "\n",
        "        generator.train()\n",
        "        optimizer_gen.zero_grad()\n",
        "\n",
        "        fake_pred = discriminator(gen)\n",
        "        # loss_g = 0.9 * F.mse_loss(gen, y) + 0.1 * F.binary_cross_entropy_with_logits(fake_pred, torch.ones_like(fake_pred))\n",
        "        loss_g = F.binary_cross_entropy_with_logits(fake_pred, torch.ones_like(fake_pred))\n",
        "\n",
        "        loss_g.backward()\n",
        "        optimizer_gen.step()\n",
        "        train_ge_losses.append(loss_g.item())\n",
        "\n",
        "        discriminator.train()\n",
        "        optimizer_disc.zero_grad()\n",
        "\n",
        "        fake_pred = discriminator(gen.detach())\n",
        "        true_pred = discriminator(y)\n",
        "\n",
        "        loss_d = F.binary_cross_entropy_with_logits(true_pred, torch.ones_like(true_pred)) + F.binary_cross_entropy_with_logits(fake_pred, torch.zeros_like(fake_pred))\n",
        "        loss_d = loss_d * 0.5\n",
        "\n",
        "        loss_d.backward()\n",
        "        optimizer_disc.step()\n",
        "        train_de_losses.append(loss_d.item())\n",
        "    \n",
        "    train_g_losses.append(np.mean(train_ge_losses))\n",
        "    train_d_losses.append(np.mean(train_de_losses))\n"
      ],
      "metadata": {
        "colab": {
          "base_uri": "https://localhost:8080/"
        },
        "id": "e_sE2SX7-7-R",
        "outputId": "3abc089e-34e6-4d1e-8be0-61b4d7b1351b"
      },
      "execution_count": 94,
      "outputs": [
        {
          "output_type": "stream",
          "name": "stderr",
          "text": [
            "100%|██████████| 300/300 [11:17<00:00,  2.26s/it]\n"
          ]
        }
      ]
    },
    {
      "cell_type": "code",
      "source": [
        "plt.figure(figsize=(10,4))\n",
        "plt.subplot(121)\n",
        "plt.plot(train_g_losses)\n",
        "plt.subplot(122)\n",
        "plt.plot(train_d_losses)\n",
        "plt.tight_layout()\n",
        "plt.show()"
      ],
      "metadata": {
        "colab": {
          "base_uri": "https://localhost:8080/",
          "height": 297
        },
        "id": "ae5w76PSAvk1",
        "outputId": "07a9fe09-dbfe-42b8-a809-bf1278d9d208"
      },
      "execution_count": 95,
      "outputs": [
        {
          "output_type": "display_data",
          "data": {
            "text/plain": [
              "<Figure size 720x288 with 2 Axes>"
            ],
            "image/png": "[encoded data removed]"
          },
          "metadata": {
            "needs_background": "light"
          }
        }
      ]
    },
    {
      "cell_type": "code",
      "source": [
        "generator.eval()\n",
        "\n",
        "\n",
        "r1 = -20\n",
        "r2 = 20\n",
        "\n",
        "noise = (r1 - r2) * torch.rand(3000, 1).to(device) + r2\n",
        "\n",
        "out = generator(noise)"
      ],
      "metadata": {
        "id": "dJOzkrpUAnX9"
      },
      "execution_count": 104,
      "outputs": []
    },
    {
      "cell_type": "code",
      "source": [
        "plt.scatter(noise.squeeze().cpu().numpy(), out.squeeze().detach().cpu().numpy())"
      ],
      "metadata": {
        "colab": {
          "base_uri": "https://localhost:8080/",
          "height": 283
        },
        "id": "EiKlHSNgAtRW",
        "outputId": "e2da9b97-e6b2-4aae-a71d-2fd77c3b1334"
      },
      "execution_count": 105,
      "outputs": [
        {
          "output_type": "execute_result",
          "data": {
            "text/plain": [
              "<matplotlib.collections.PathCollection at 0x7f024b49b1f0>"
            ]
          },
          "metadata": {},
          "execution_count": 105
        },
        {
          "output_type": "display_data",
          "data": {
            "text/plain": [
              "<Figure size 432x288 with 1 Axes>"
            ],
            "image/png": "[encoded data removed]"
          },
          "metadata": {
            "needs_background": "light"
          }
        }
      ]
    }
  ]
}